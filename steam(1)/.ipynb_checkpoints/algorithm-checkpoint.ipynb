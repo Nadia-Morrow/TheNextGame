{
 "cells": [
  {
   "cell_type": "markdown",
   "metadata": {},
   "source": [
    "# Steam Recommender System"
   ]
  },
  {
   "cell_type": "markdown",
   "metadata": {},
   "source": [
    "**Reading in the Steam dataset and libraries/packages**"
   ]
  },
  {
   "cell_type": "code",
   "execution_count": 1,
   "metadata": {
    "_cell_guid": "b1076dfc-b9ad-4769-8c92-a6c4dae69d19",
    "_uuid": "8f2839f25d086af736a60e9eeb907d3b93b6e0e5",
    "execution": {
     "iopub.execute_input": "2022-04-09T03:09:52.715951Z",
     "iopub.status.busy": "2022-04-09T03:09:52.715290Z",
     "iopub.status.idle": "2022-04-09T03:09:58.040274Z",
     "shell.execute_reply": "2022-04-09T03:09:58.039152Z",
     "shell.execute_reply.started": "2022-04-09T03:09:52.715859Z"
    }
   },
   "outputs": [],
   "source": [
    "from IPython.core.interactiveshell import InteractiveShell\n",
    "InteractiveShell.ast_node_interactivity = \"all\"\n",
    "\n",
    "import numpy as np\n",
    "import pandas as pd \n",
    "import matplotlib.pyplot as plt\n",
    "import tensorflow.compat.v1 as tf\n",
    "tf.disable_v2_behavior() \n",
    "import os\n",
    "\n",
    "for dirname, _, filenames in os.walk('/kaggle/input'):\n",
    "    for filename in filenames:\n",
    "        print(os.path.join(dirname, filename))"
   ]
  },
  {
   "cell_type": "markdown",
   "metadata": {},
   "source": [
    "## Data Loading and Exploration"
   ]
  },
  {
   "cell_type": "code",
   "execution_count": 2,
   "metadata": {
    "execution": {
     "iopub.execute_input": "2022-04-09T03:09:58.042897Z",
     "iopub.status.busy": "2022-04-09T03:09:58.042468Z",
     "iopub.status.idle": "2022-04-09T03:09:58.699749Z",
     "shell.execute_reply": "2022-04-09T03:09:58.698824Z",
     "shell.execute_reply.started": "2022-04-09T03:09:58.042848Z"
    }
   },
   "outputs": [],
   "source": [
    "steam_raw = pd.read_csv(\"../input/steam-video-games/steam-200k.csv\",usecols=[0,1,2,3],names=['userid','game','behavior','hoursplayed'])\n",
    "steam_raw.head()\n",
    "steam_raw.isnull().values.any()\n",
    "steam_raw['userid'] = steam_raw.userid.astype(str)\n",
    "steam_raw.describe()"
   ]
  },
  {
   "cell_type": "code",
   "execution_count": 3,
   "metadata": {
    "execution": {
     "iopub.execute_input": "2022-04-09T03:09:58.701502Z",
     "iopub.status.busy": "2022-04-09T03:09:58.701135Z",
     "iopub.status.idle": "2022-04-09T03:09:58.818483Z",
     "shell.execute_reply": "2022-04-09T03:09:58.817651Z",
     "shell.execute_reply.started": "2022-04-09T03:09:58.701459Z"
    }
   },
   "outputs": [],
   "source": [
    "steam_raw.groupby(['game']).mean().sort_values(by=\"hoursplayed\",ascending=False).head()\n",
    "steam_raw.groupby(['game']).sum().sort_values(by=\"hoursplayed\",ascending=False).head()"
   ]
  },
  {
   "cell_type": "markdown",
   "metadata": {},
   "source": [
    "**Eastside Hockey Manager has the highest average hours played while Dota 2 has the most hours played.**"
   ]
  },
  {
   "cell_type": "code",
   "execution_count": 4,
   "metadata": {
    "execution": {
     "iopub.execute_input": "2022-04-09T03:09:58.821023Z",
     "iopub.status.busy": "2022-04-09T03:09:58.820792Z",
     "iopub.status.idle": "2022-04-09T03:09:58.870751Z",
     "shell.execute_reply": "2022-04-09T03:09:58.869902Z",
     "shell.execute_reply.started": "2022-04-09T03:09:58.820995Z"
    }
   },
   "outputs": [],
   "source": [
    "len(steam_raw['game'].unique())\n",
    "len(steam_raw['userid'].unique())"
   ]
  },
  {
   "cell_type": "markdown",
   "metadata": {},
   "source": [
    "**There is 5155 unique games and 12393 unique players in the dataset.**"
   ]
  },
  {
   "cell_type": "code",
   "execution_count": 5,
   "metadata": {
    "execution": {
     "iopub.execute_input": "2022-04-09T03:09:58.873357Z",
     "iopub.status.busy": "2022-04-09T03:09:58.873009Z",
     "iopub.status.idle": "2022-04-09T03:09:59.224157Z",
     "shell.execute_reply": "2022-04-09T03:09:59.223197Z",
     "shell.execute_reply.started": "2022-04-09T03:09:58.873316Z"
    }
   },
   "outputs": [],
   "source": [
    "gb = steam_raw.groupby('game')['userid'].nunique().sort_values(ascending=False).head()\n",
    "ax = gb.plot(kind='bar', title='Number of players for Most Popular Games', ylabel='No. of players',\n",
    "         xlabel='Game', figsize=(6, 5))\n",
    "\n",
    "ax.bar_label(ax.containers[0])"
   ]
  },
  {
   "cell_type": "markdown",
   "metadata": {},
   "source": [
    "## Feature Engineering and Metrics\n",
    "**Supposedly if a user plays a game for more than 40 hours, then the user enjoys the game.<br>\n",
    "Thus, we define a binary column \"like\" that indicates 1 if the user enjoys the game, and 0 if he/she doesn't.**"
   ]
  },
  {
   "cell_type": "code",
   "execution_count": 6,
   "metadata": {
    "execution": {
     "iopub.execute_input": "2022-04-09T03:09:59.227250Z",
     "iopub.status.busy": "2022-04-09T03:09:59.225760Z",
     "iopub.status.idle": "2022-04-09T03:10:00.885638Z",
     "shell.execute_reply": "2022-04-09T03:10:00.884757Z",
     "shell.execute_reply.started": "2022-04-09T03:09:59.227199Z"
    }
   },
   "outputs": [],
   "source": [
    "steam_df = steam_raw.copy()\n",
    "steam_df['like'] = [1 if x > 40 else 0 for x in steam_df['hoursplayed']]\n",
    "steam_df['like'].value_counts()\n",
    "steam_df.head()\n",
    "\n",
    "bg=steam_df.groupby('game')['like'].apply(lambda x: (x==1).sum()).sort_values(ascending=False)\n",
    "bg.head()\n",
    "gb.head()\n",
    "#Plot grouped bar-chart of common games\n",
    "gbbg = pd.merge(gb, bg, on='game')\n",
    "gbc = gbbg.plot.bar(logy=True)\n",
    "\n"
   ]
  },
  {
   "cell_type": "markdown",
   "metadata": {},
   "source": [
    "**From the graph, Half-Life 2 Lost Coast had one of the highest unique players of 981 (purchased and played) but none of them played the game more than 40 hours.<br>\n",
    "Now, let's find those who purchased a game and didn't play it at all.<br>\n",
    "We would want to reassign hoursplayed for these players to 0 instead of 1.<br>\n",
    "And change the behavior to play and finally drop rows that are purchase.<br>\n",
    "<br>\n",
    "This would leave the dataframe to only containing play behaviors and if those that are purchased and not played, the hoursplayed will be 0.**"
   ]
  },
  {
   "cell_type": "code",
   "execution_count": 7,
   "metadata": {
    "execution": {
     "iopub.execute_input": "2022-04-09T03:10:00.887372Z",
     "iopub.status.busy": "2022-04-09T03:10:00.887121Z",
     "iopub.status.idle": "2022-04-09T03:10:01.214763Z",
     "shell.execute_reply": "2022-04-09T03:10:01.213873Z",
     "shell.execute_reply.started": "2022-04-09T03:10:00.887339Z"
    }
   },
   "outputs": [],
   "source": [
    "x = steam_df.groupby(['userid', 'game'])['behavior'].size()\n",
    "s = x[x == 1]\n",
    "len(s)\n",
    "len(x)\n",
    "\n",
    "boolean_index = steam_df.groupby(['userid','game'])['behavior'].transform('size') < 2\n",
    "steam_df.loc[boolean_index,'hoursplayed'] = 0\n",
    "steam_df.loc[steam_df['hoursplayed']==0]\n",
    "\n",
    "steam_df.loc[steam_df.hoursplayed==0,'behavior'] = 'play'\n",
    "\n",
    "steam_df.loc[steam_df['hoursplayed'] ==0]\n",
    "steam_df = steam_df[steam_df.behavior != 'purchase']"
   ]
  },
  {
   "cell_type": "markdown",
   "metadata": {},
   "source": [
    "**There are 57904 games purchased that have not been played yet.<br>\n",
    "Next, we define the metrics to calculate a simple recommendation based on popularity and what other players like.**"
   ]
  },
  {
   "cell_type": "code",
   "execution_count": 8,
   "metadata": {
    "execution": {
     "iopub.execute_input": "2022-04-09T03:10:01.216279Z",
     "iopub.status.busy": "2022-04-09T03:10:01.216007Z",
     "iopub.status.idle": "2022-04-09T03:10:01.266795Z",
     "shell.execute_reply": "2022-04-09T03:10:01.266134Z",
     "shell.execute_reply.started": "2022-04-09T03:10:01.216249Z"
    }
   },
   "outputs": [],
   "source": [
    "# Create a new dataframe to store metrics\n",
    "d = {'like':'Sum Likes','hoursplayed':'Avg Hours Played'}\n",
    "metrics_df = steam_df.groupby(['game'], as_index=False).agg({'like':'sum','hoursplayed':'mean'}).rename(columns=d)\n",
    "metrics_df.loc[metrics_df['game'] == \"Dota 2\"] #Check Dota 2\n",
    "\n",
    "# Calculate mean of Hours Played average\n",
    "c = metrics_df['Avg Hours Played'].mean()\n",
    "print(\"Average hours played across all games is \" + str(round(c,2)))\n",
    "\n",
    "# Calculate the minimum number of likes required, set to 95 percentile\n",
    "m = metrics_df['Sum Likes'].quantile(0.95)\n",
    "print(\"Minimum number of likes for a game is \" + str(m))"
   ]
  },
  {
   "cell_type": "markdown",
   "metadata": {},
   "source": [
    "**Here the cut-off for the minimum number of likes is 5, this mean that there should be at least 5 user that played the game for more than 40 hours. <br> \n",
    "If a game has no more than 5 likes, we wouldn't recommend it to others.<br>\n",
    "Now, we can proceed to trim and filter out the dataframe that meet this minimum number of likes.**"
   ]
  },
  {
   "cell_type": "code",
   "execution_count": 9,
   "metadata": {
    "execution": {
     "iopub.execute_input": "2022-04-09T03:10:01.268216Z",
     "iopub.status.busy": "2022-04-09T03:10:01.267953Z",
     "iopub.status.idle": "2022-04-09T03:10:01.291345Z",
     "shell.execute_reply": "2022-04-09T03:10:01.290434Z",
     "shell.execute_reply.started": "2022-04-09T03:10:01.268187Z"
    }
   },
   "outputs": [],
   "source": [
    "metrics_df.shape\n",
    "metrics_df = metrics_df.loc[metrics_df['Sum Likes'] >= m]\n",
    "metrics_df.shape\n",
    "metrics_df.head()"
   ]
  },
  {
   "cell_type": "markdown",
   "metadata": {},
   "source": [
    "## Simple Recommender\n",
    "**Next, we will create the scoring system for each game.<br>\n",
    "Define the score as Average Hours Played for the Game multiplied by Sum Likes Fraction Add Average Hours Across Games multilpied by minimum number of Likes Fraction**"
   ]
  },
  {
   "cell_type": "code",
   "execution_count": 10,
   "metadata": {
    "execution": {
     "iopub.execute_input": "2022-04-09T03:10:01.292946Z",
     "iopub.status.busy": "2022-04-09T03:10:01.292606Z",
     "iopub.status.idle": "2022-04-09T03:10:01.320709Z",
     "shell.execute_reply": "2022-04-09T03:10:01.319741Z",
     "shell.execute_reply.started": "2022-04-09T03:10:01.292899Z"
    }
   },
   "outputs": [],
   "source": [
    "def weighted_rating(df, m=m, C=c):\n",
    "    l = df['Sum Likes']\n",
    "    a = df['Avg Hours Played']\n",
    "    return (l/(l+m) * a) + (m/(l+m) * C)\n",
    "\n",
    "metrics_df['score'] = metrics_df.apply(weighted_rating, axis=1)\n",
    "metrics_df.head()"
   ]
  },
  {
   "cell_type": "markdown",
   "metadata": {},
   "source": [
    "**Renaming metrics_df index name to 'index' and reseting the index by the sorted values of the score**"
   ]
  },
  {
   "cell_type": "code",
   "execution_count": 11,
   "metadata": {
    "execution": {
     "iopub.execute_input": "2022-04-09T03:10:01.324272Z",
     "iopub.status.busy": "2022-04-09T03:10:01.323679Z",
     "iopub.status.idle": "2022-04-09T03:10:01.346128Z",
     "shell.execute_reply": "2022-04-09T03:10:01.345165Z",
     "shell.execute_reply.started": "2022-04-09T03:10:01.324219Z"
    }
   },
   "outputs": [],
   "source": [
    "metrics_df.index.name = 'index'\n",
    "newIndex = metrics_df.sort_values(by=['score'],ascending=False).reset_index('index', drop=True)\n",
    "newIndex.head(20)\n",
    "newIndex.shape\n",
    "# metrics_df.sort_values(by=['score'],ascending=False).head(20).reset_index('index', drop=True)"
   ]
  },
  {
   "cell_type": "markdown",
   "metadata": {},
   "source": [
    "# Taking In User Input\n",
    "**Reading In File with User Inputted Game**"
   ]
  },
  {
   "cell_type": "code",
   "execution_count": 12,
   "metadata": {
    "execution": {
     "iopub.execute_input": "2022-04-09T03:10:01.350317Z",
     "iopub.status.busy": "2022-04-09T03:10:01.349726Z",
     "iopub.status.idle": "2022-04-09T03:10:01.371110Z",
     "shell.execute_reply": "2022-04-09T03:10:01.370420Z",
     "shell.execute_reply.started": "2022-04-09T03:10:01.350263Z"
    }
   },
   "outputs": [],
   "source": [
    "for dirname, _, filenames in os.walk('/kaggle/input'):\n",
    "    for filename in filenames:\n",
    "        print(os.path.join(dirname, filename))\n",
    "        \n",
    "userInput_df = pd.read_csv(\"../input/userinput/UserGameInput.txt\", sep=\",\", usecols=[0], names=['game'])\n",
    "userInput_df.head()\n",
    "\n"
   ]
  },
  {
   "cell_type": "markdown",
   "metadata": {},
   "source": [
    "**Verifying if user game is in newIndex dataframe**"
   ]
  },
  {
   "cell_type": "code",
   "execution_count": 13,
   "metadata": {
    "execution": {
     "iopub.execute_input": "2022-04-09T03:10:01.372615Z",
     "iopub.status.busy": "2022-04-09T03:10:01.372084Z",
     "iopub.status.idle": "2022-04-09T03:10:01.381002Z",
     "shell.execute_reply": "2022-04-09T03:10:01.380122Z",
     "shell.execute_reply.started": "2022-04-09T03:10:01.372570Z"
    }
   },
   "outputs": [],
   "source": [
    "# printing the game if userInput_df game is in metrics_df\n",
    "# print (userInput_df[userInput_df['game'].isin(metrics_df['game'])])\n",
    "\n",
    "gameRec = userInput_df[userInput_df['game'].isin(newIndex['game'])]\n",
    "\n",
    "print (gameRec)"
   ]
  },
  {
   "cell_type": "markdown",
   "metadata": {},
   "source": [
    "# Printing Out User's 2 Recommended Games Based Off User's Inputted Game"
   ]
  },
  {
   "cell_type": "markdown",
   "metadata": {},
   "source": [
    "**Obtaining where game is in newIndex dataframe and assigning this row to a new dataframe called location and printing location**\n",
    "\n",
    "**Printing the game above and the game below using location to find in the newIndex (rating table) as long as it is not the index of 0, which is the game Football Manager 2012, as this will print the two games below it from the newIndex dataframe (rating table).**\n",
    "\n",
    "**Also verifying if last game of dataframe of newIndex will print the two games before it**"
   ]
  },
  {
   "cell_type": "code",
   "execution_count": 25,
   "metadata": {
    "execution": {
     "iopub.execute_input": "2022-04-09T03:23:06.296607Z",
     "iopub.status.busy": "2022-04-09T03:23:06.296304Z",
     "iopub.status.idle": "2022-04-09T03:23:06.310832Z",
     "shell.execute_reply": "2022-04-09T03:23:06.310283Z",
     "shell.execute_reply.started": "2022-04-09T03:23:06.296574Z"
    }
   },
   "outputs": [],
   "source": [
    "location = newIndex.loc[newIndex['game'].isin(userInput_df['game'])]\n",
    "print (location)\n",
    "\n",
    "# metrics_df.loc[metrics_df['game'] == \"Dota 2\"] #Check Dota 2\n",
    "\n",
    "if  location.index == 0:\n",
    "    t = 0\n",
    "    re = newIndex.iloc[t: t+2]\n",
    "    print (re)\n",
    "    \n",
    "    #>>> df['date'][df.index[-1]]\n",
    "elif location.index == newIndex.index[newIndex.index[-1]]:\n",
    "    t = newIndex['index'].iloc[-1]\n",
    "    res = newIndex.iloc[t: t-2]\n",
    "    print(res)\n",
    "    \n",
    "else :\n",
    "    st = location.index.astype(int)\n",
    "    result = newIndex.iloc[st+1]\n",
    "    result2 = newIndex.iloc[st-1]\n",
    "    print (result.game)\n",
    "    print (result2.game)"
   ]
  }
 ],
 "metadata": {
  "kernelspec": {
   "display_name": "Python 3",
   "language": "python",
   "name": "python3"
  },
  "language_info": {
   "codemirror_mode": {
    "name": "ipython",
    "version": 3
   },
   "file_extension": ".py",
   "mimetype": "text/x-python",
   "name": "python",
   "nbconvert_exporter": "python",
   "pygments_lexer": "ipython3",
   "version": "3.8.8"
  }
 },
 "nbformat": 4,
 "nbformat_minor": 4
}
